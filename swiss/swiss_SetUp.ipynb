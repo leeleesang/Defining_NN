{
 "cells": [
  {
   "cell_type": "markdown",
   "id": "effective-optics",
   "metadata": {},
   "source": [
    "Import packages"
   ]
  },
  {
   "cell_type": "code",
   "execution_count": 1,
   "id": "heavy-twist",
   "metadata": {},
   "outputs": [],
   "source": [
    "import numpy as np\n",
    "import copy\n",
    "import time\n",
    "import datetime\n",
    "import os\n",
    "from tqdm import tqdm\n",
    "\n",
    "import matplotlib.pyplot as plt\n",
    "from mpl_toolkits import mplot3d\n",
    "from matplotlib.ticker import MaxNLocator\n",
    "import matplotlib.patches as mpatches\n",
    "# plt.rcParams['text.usetex'] = True\n",
    "\n",
    "import torch\n",
    "import torchvision\n",
    "import torch.nn as nn\n",
    "import torch.nn.functional as F\n",
    "import torch.optim as optim\n",
    "from torch.utils.tensorboard import SummaryWriter\n",
    "\n",
    "from matplotlib import rcParams\n",
    "rcParams.update({'figure.autolayout': True})\n",
    "rcParams.update({'figure.dpi': 100})\n",
    "rcParams.update({\"mathtext.fontset\" : \"cm\"})"
   ]
  },
  {
   "cell_type": "markdown",
   "id": "sixth-duration",
   "metadata": {},
   "source": [
    "Useful Functions"
   ]
  },
  {
   "cell_type": "code",
   "execution_count": 2,
   "id": "executed-measure",
   "metadata": {},
   "outputs": [],
   "source": [
    "# image show function\n",
    "def imshow(x, title=None):\n",
    "    if torch.is_tensor(x) :\n",
    "        _x = x.detach().cpu().squeeze()\n",
    "        if _x.dim() == 2:\n",
    "            plt.imshow(_x, cmap='gray')\n",
    "        else:\n",
    "            plt.imshow(_x)\n",
    "        plt.title(title)\n",
    "        plt.show()\n",
    "    else :\n",
    "        plt.imshow(x.squeeze())\n",
    "        plt.title(title)\n",
    "        plt.show()\n",
    "        \n",
    "def create_directory(directory): \n",
    "    try: \n",
    "        if not os.path.exists(directory):\n",
    "            os.makedirs(directory)\n",
    "    except OSError: print(\"Error: Failed to create the directory.\")\n",
    "        \n",
    "def savefig(directory):\n",
    "    plt.savefig(directory)\n",
    "    plt.show()\n",
    "    plt.close()\n",
    "\n",
    "    \n",
    "def protractor(w,v):\n",
    "    # function that calculates angle between two torch tensors\n",
    "    return torch.arccos((w*v).sum()/(w.norm()*v.norm()))"
   ]
  }
 ],
 "metadata": {
  "kernelspec": {
   "display_name": "Python 3 (ipykernel)",
   "language": "python",
   "name": "python3"
  },
  "language_info": {
   "codemirror_mode": {
    "name": "ipython",
    "version": 3
   },
   "file_extension": ".py",
   "mimetype": "text/x-python",
   "name": "python",
   "nbconvert_exporter": "python",
   "pygments_lexer": "ipython3",
   "version": "3.12.4"
  }
 },
 "nbformat": 4,
 "nbformat_minor": 5
}
